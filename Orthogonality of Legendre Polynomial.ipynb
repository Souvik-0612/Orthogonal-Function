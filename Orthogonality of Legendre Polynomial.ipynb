{
 "cells": [
  {
   "cell_type": "code",
   "execution_count": 1,
   "id": "710b7ac3",
   "metadata": {},
   "outputs": [],
   "source": [
    "# Recursive relation for Legendre Polynomial\n",
    "def P(n, x): \n",
    "    if(n == 0):\n",
    "        return x**0 \n",
    "    elif(n == 1):\n",
    "        return x \n",
    "    else:\n",
    "        return ((2*n - 1)*x*P(n-1, x)-(n-1)*P(n-2, x))/n"
   ]
  },
  {
   "cell_type": "code",
   "execution_count": 2,
   "id": "1ea35b71",
   "metadata": {},
   "outputs": [],
   "source": [
    "import matplotlib.pyplot as plt\n",
    "import numpy as np"
   ]
  },
  {
   "cell_type": "code",
   "execution_count": 3,
   "id": "5b3c1c19",
   "metadata": {},
   "outputs": [],
   "source": [
    "def Simpson(xi, xf, n, f):\n",
    "    x = np.linspace(xi, xf, n)\n",
    "    h = (xf - xi)/(n - 1)\n",
    "    y = f(x)\n",
    "    #Sum of Odd terms \n",
    "    sum1 = 0\n",
    "    for i in range(1, n-1, 2):\n",
    "        sum1 += y[i]\n",
    "    #Sum of even terms\n",
    "    sum2 = 0\n",
    "    for i in range(2, n-1, 2):\n",
    "        sum2 += y[i]\n",
    "    \n",
    "    return h*(y[0] + 4*sum1 + 2*sum2 + y[n-1])/3"
   ]
  },
  {
   "cell_type": "markdown",
   "id": "ebc31310",
   "metadata": {},
   "source": [
    "As Legendre polynomial forms a complete basis function, so any function can be written in terms of Legendre polynomial. \n",
    "$$f(x) = \\sum_{l=0}^{\\infty}a_l P_l(x)$$"
   ]
  },
  {
   "cell_type": "markdown",
   "id": "07623c7e",
   "metadata": {},
   "source": [
    "**Evalution of coefficient**\n",
    "$$a_m = \\left(m + \\frac{1}{2}\\right) \\int_{-1}^{1}f(x)P_m(x)dx$$"
   ]
  },
  {
   "cell_type": "markdown",
   "id": "f87128f7",
   "metadata": {},
   "source": [
    "> **Problem 1**: Find the Legendre Series :\n",
    "\n",
    "$$ f(x)=  \\left\\{\n",
    "\\begin{array}{ll}\n",
    "      0 & [-1, 0] \\\\\n",
    "      1 & [0,1] \\\\\n",
    "\\end{array} \n",
    "\\right. \n",
    "$$\n"
   ]
  },
  {
   "cell_type": "code",
   "execution_count": 4,
   "id": "bdfc4503",
   "metadata": {},
   "outputs": [],
   "source": [
    "def a(m):\n",
    "    return (m+1/2)*(Simpson(-1, 0, 15, f = lambda x: 0*P(m,x)) + Simpson(0, 1, 15, f = lambda x: P(m, x)))"
   ]
  },
  {
   "cell_type": "code",
   "execution_count": 5,
   "id": "67a9eb39",
   "metadata": {},
   "outputs": [],
   "source": [
    "# Legendre series\n",
    "def Legendre(x, n):\n",
    "    Legendre= 0\n",
    "    for i in range(0,n+1):\n",
    "        Legendre+= a(i)* P(i, x)\n",
    "    return Legendre"
   ]
  },
  {
   "cell_type": "code",
   "execution_count": 6,
   "id": "d6c95a2a",
   "metadata": {},
   "outputs": [
    {
     "data": {
      "image/png": "[encoded data removed]",
      "text/plain": [
       "<Figure size 432x288 with 1 Axes>"
      ]
     },
     "metadata": {
      "needs_background": "light"
     },
     "output_type": "display_data"
    }
   ],
   "source": [
    "x = np.linspace(-1, 0.95, 500)\n",
    "y = Legendre(x, 30)\n",
    "\n",
    "#Plotting\n",
    "plt.rcParams[\"figure.figsize\"] = (8,4)\n",
    "plt.plot(x,y)\n",
    "plt.show()"
   ]
  }
 ],
 "metadata": {
  "kernelspec": {
   "display_name": "Python 3 (ipykernel)",
   "language": "python",
   "name": "python3"
  },
  "language_info": {
   "codemirror_mode": {
    "name": "ipython",
    "version": 3
   },
   "file_extension": ".py",
   "mimetype": "text/x-python",
   "name": "python",
   "nbconvert_exporter": "python",
   "pygments_lexer": "ipython3",
   "version": "3.10.4"
  }
 },
 "nbformat": 4,
 "nbformat_minor": 5
}
